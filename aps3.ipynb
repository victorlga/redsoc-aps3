{
 "cells": [
  {
   "cell_type": "markdown",
   "id": "7356e2d7-6504-485a-af60-93126f4ba239",
   "metadata": {},
   "source": [
    "# Building and analysing a OLX's user network"
   ]
  },
  {
   "cell_type": "code",
   "execution_count": 1,
   "id": "5a2685ca-0a75-4866-a8e6-e30ae77bdb37",
   "metadata": {
    "execution": {
     "iopub.execute_input": "2023-10-07T01:22:38.198125Z",
     "iopub.status.busy": "2023-10-07T01:22:38.197633Z",
     "iopub.status.idle": "2023-10-07T01:22:40.754332Z",
     "shell.execute_reply": "2023-10-07T01:22:40.753841Z",
     "shell.execute_reply.started": "2023-10-07T01:22:38.198086Z"
    }
   },
   "outputs": [],
   "source": [
    "import graph_tool_extras as gte\n",
    "from pathlib import Path\n",
    "from random import random, choices, seed\n",
    "import matplotlib.pyplot as plt\n",
    "import numpy as np"
   ]
  },
  {
   "cell_type": "markdown",
   "id": "cdb9be19-a3ee-4926-b1d2-e2c8c43dc672",
   "metadata": {},
   "source": [
    "## Introduction"
   ]
  },
  {
   "cell_type": "markdown",
   "id": "c7e50b3d-36ef-431a-8283-2ae1c9f8d131",
   "metadata": {},
   "source": [
    "In this notebook a two-mode network of OLX's users and itens was project into a one-mode network of OLX's users. This dataset (olx-jobs) is published by Grupa OLX sp. z o.o. and contains 65 502 201 events made on http://olx.pl/praca by 3 295 942 users who interacted with 185 395 job ads in 2 weeks of 2020. It was found at https://www.kaggle.com/datasets/olxdatascience/olx-jobs-interactions."
   ]
  },
  {
   "cell_type": "code",
   "execution_count": 14,
   "id": "7eb99007-ccd3-4fa6-9729-9f739c695cc1",
   "metadata": {
    "execution": {
     "iopub.execute_input": "2023-10-07T01:24:34.214266Z",
     "iopub.status.busy": "2023-10-07T01:24:34.213238Z",
     "iopub.status.idle": "2023-10-07T01:24:34.219507Z",
     "shell.execute_reply": "2023-10-07T01:24:34.218450Z",
     "shell.execute_reply.started": "2023-10-07T01:24:34.214222Z"
    }
   },
   "outputs": [],
   "source": [
    "FOLDER_PATH = Path.cwd() / 'archive (1)'\n",
    "FILE_PATH = FOLDER_PATH / 'interactions.csv'"
   ]
  },
  {
   "cell_type": "markdown",
   "id": "f7843099-f675-4c78-8318-5c019937ec5e",
   "metadata": {},
   "source": [
    "## Randomly limiting the Data\n",
    "\n",
    "The dataset is too large to read and was consuming all computing resources. Also, to project the two-mode network into an one-mode, there is a time complexy of $O(mn^2)$. Given that, the data was limited to half by randomly selecting it's user node's indexes."
   ]
  },
  {
   "cell_type": "code",
   "execution_count": 15,
   "id": "d017aaf0-1419-48ca-9e89-a401d4fc0c26",
   "metadata": {
    "execution": {
     "iopub.execute_input": "2023-10-07T01:24:35.307523Z",
     "iopub.status.busy": "2023-10-07T01:24:35.306832Z",
     "iopub.status.idle": "2023-10-07T01:24:35.389969Z",
     "shell.execute_reply": "2023-10-07T01:24:35.389303Z",
     "shell.execute_reply.started": "2023-10-07T01:24:35.307460Z"
    }
   },
   "outputs": [],
   "source": [
    "seed(42)\n",
    "listaNodesIndex = range(0, 3295941) ### 3295941 is the total number of nodes\n",
    "chosenNodes = choices(listaNodesIndex, k=int(3295941 / 16))\n",
    "chosenNodesSet = set(chosenNodes)"
   ]
  },
  {
   "cell_type": "markdown",
   "id": "c5caf39a-4d2c-4b7e-a74e-1b596c064f4f",
   "metadata": {},
   "source": [
    "## Understanding the data"
   ]
  },
  {
   "cell_type": "markdown",
   "id": "85703717-95e7-4b8e-90a0-7fb20bda5902",
   "metadata": {},
   "source": [
    "(Description copied from https://www.kaggle.com/datasets/olxdatascience/olx-jobs-interactions)\n",
    "\n",
    "The file interactions.csv consists of 65 502 201 rows.\n",
    "Each row represents an interaction between a user and an item and has the following format:\n",
    "\n",
    "user, item, event, timestamp.\n",
    "\n",
    "- user: a numeric id representing the user who made the interaction\n",
    "- item: a numeric id representing the item the user interacted with\n",
    "- event: a type of interaction between the user and the item, possible values are:\n",
    "    - click: the user visited the item detail page\n",
    "    - bookmark: the user added the item to bookmarks\n",
    "    - chat_click: the user opened the chat to contact the item’s owner\n",
    "    - contact_phone_click_1: the user revealed the phone number attached to the item\n",
    "    - contact_phone_click_2: the user clicked to make a phone call to the item’s owner\n",
    "    - contact_phone_click_3: the user clicked to send an SMS to the item’s owner\n",
    "    - contact_partner_click: the user clicked to access the item’s owner external page\n",
    "    - contact_chat: the user sent a message to the item’s owner\n",
    "- timestamp: the Unix timestamp of the interaction\n",
    "\n",
    "Maintaining the confidentiality of ads and users was a priority when preparing this dataset. The measures taken to protect privacy included the following:\n",
    "\n",
    "- original user and item identifiers were replaced by unique random integers;\n",
    "- some undisclosed constant integer was added to all timestamps;\n",
    "- some fraction of interactions were filtered out;\n",
    "- some additional artificial interactions were added.\n"
   ]
  },
  {
   "cell_type": "markdown",
   "id": "2a82ff29-c1c0-456c-9157-f80e7acf774c",
   "metadata": {},
   "source": [
    "## Projecting two-mode network"
   ]
  },
  {
   "cell_type": "code",
   "execution_count": 16,
   "id": "6da63f7b-82e2-476a-8509-a2a14a6845ff",
   "metadata": {
    "execution": {
     "iopub.execute_input": "2023-10-07T01:24:36.614923Z",
     "iopub.status.busy": "2023-10-07T01:24:36.613337Z",
     "iopub.status.idle": "2023-10-07T01:24:36.621661Z",
     "shell.execute_reply": "2023-10-07T01:24:36.620391Z",
     "shell.execute_reply.started": "2023-10-07T01:24:36.614874Z"
    }
   },
   "outputs": [],
   "source": [
    "interaction_weights = {\n",
    "    'click': 1,\n",
    "    'bookmark': 2,\n",
    "    'chat_click': 2,\n",
    "    'contact_phone_click_1': 2,\n",
    "    'contact_phone_click_2': 3,\n",
    "    'contact_phone_click_3': 3,\n",
    "    'contact_partner_click': 2,\n",
    "    'contact_chat': 3,\n",
    "}\n",
    "\n",
    "item_user_dict = {}\n",
    "user_user_projection = {}"
   ]
  },
  {
   "cell_type": "code",
   "execution_count": 17,
   "id": "5c70775d-3721-4924-95ad-390d919d7a96",
   "metadata": {
    "execution": {
     "iopub.execute_input": "2023-10-07T01:24:37.148672Z",
     "iopub.status.busy": "2023-10-07T01:24:37.148376Z",
     "iopub.status.idle": "2023-10-07T01:25:20.421517Z",
     "shell.execute_reply": "2023-10-07T01:25:20.421072Z",
     "shell.execute_reply.started": "2023-10-07T01:24:37.148650Z"
    }
   },
   "outputs": [],
   "source": [
    "with open(FILE_PATH) as file:\n",
    "    next(file)\n",
    "\n",
    "    for line in file:\n",
    "        parts = line.strip().split(',')\n",
    "        user_id = int(parts[0])\n",
    "        item_id = parts[1]\n",
    "        interaction_type = parts[2]\n",
    "\n",
    "        if (user_id in chosenNodesSet):\n",
    "            item_user_dict.setdefault(item_id, {}).setdefault(user_id, set())\n",
    "            item_user_dict[item_id][user_id].add(interaction_type)"
   ]
  },
  {
   "cell_type": "code",
   "execution_count": 18,
   "id": "f3bdd791-4486-4fcd-ae93-9a90d3bd3aba",
   "metadata": {
    "execution": {
     "iopub.execute_input": "2023-10-07T01:25:20.422448Z",
     "iopub.status.busy": "2023-10-07T01:25:20.422301Z",
     "iopub.status.idle": "2023-10-07T01:25:41.328580Z",
     "shell.execute_reply": "2023-10-07T01:25:41.327945Z",
     "shell.execute_reply.started": "2023-10-07T01:25:20.422436Z"
    }
   },
   "outputs": [],
   "source": [
    "for item, user_interaction in item_user_dict.items():\n",
    "    for u1, interaction1 in user_interaction.items():\n",
    "        for u2, interaction2 in user_interaction.items():\n",
    "            \n",
    "            if u1 != u2 and interaction1 == interaction2 and len(interaction1) > 0:\n",
    "                user_user_projection.setdefault(u1, {}).setdefault(u2, 0)\n",
    "                interaction = interaction1.pop()\n",
    "                weight = interaction_weights.get(interaction, 0)\n",
    "                \n",
    "                user_user_projection[u1][u2] += weight"
   ]
  },
  {
   "cell_type": "markdown",
   "id": "50b31ed8-c489-426d-bb12-4ccfea86619b",
   "metadata": {},
   "source": [
    "To understand what should be considered a reasonable threshold to \"similar usage behavior\" was generated a list of scores and the relative count of each score was printed. The idea is to look for an intense frequency drop based on the assumption that OLX's users with similar usage behaviors would interact with similar intensities to the same products."
   ]
  },
  {
   "cell_type": "code",
   "execution_count": 19,
   "id": "a80ebf3a-9463-44a4-9901-639b205a5328",
   "metadata": {
    "execution": {
     "iopub.execute_input": "2023-10-07T01:25:41.329286Z",
     "iopub.status.busy": "2023-10-07T01:25:41.329147Z",
     "iopub.status.idle": "2023-10-07T01:25:42.363820Z",
     "shell.execute_reply": "2023-10-07T01:25:42.363242Z",
     "shell.execute_reply.started": "2023-10-07T01:25:41.329276Z"
    }
   },
   "outputs": [
    {
     "name": "stdout",
     "output_type": "stream",
     "text": [
      "1: 92.07\n",
      "2: 6.41\n",
      "3: 1.14\n",
      "4: 0.25\n",
      "6: 0.03\n",
      "9: 0.00\n",
      "5: 0.07\n",
      "7: 0.01\n",
      "8: 0.01\n",
      "12: 0.00\n",
      "10: 0.00\n",
      "11: 0.00\n",
      "15: 0.00\n",
      "14: 0.00\n",
      "22: 0.00\n",
      "19: 0.00\n",
      "16: 0.00\n",
      "21: 0.00\n",
      "13: 0.00\n",
      "20: 0.00\n"
     ]
    }
   ],
   "source": [
    "scores = []\n",
    "for u1, neighbors in user_user_projection.items():\n",
    "    for u2, weight in neighbors.items():\n",
    "        scores.append(weight)\n",
    "\n",
    "counts = {}\n",
    "total = 0\n",
    "for element in scores:\n",
    "    total += 1\n",
    "    if element in counts:\n",
    "        counts[element] += 1\n",
    "    else:\n",
    "        counts[element] = 1\n",
    "\n",
    "for element, count in counts.items():\n",
    "    percentage = count / total * 100\n",
    "    print(f\"{element}: {percentage:.2f}\")"
   ]
  },
  {
   "cell_type": "code",
   "execution_count": 20,
   "id": "5acba8ec-f54f-4bf6-a4ff-3a0614b243c4",
   "metadata": {
    "execution": {
     "iopub.execute_input": "2023-10-07T01:25:42.365135Z",
     "iopub.status.busy": "2023-10-07T01:25:42.364949Z",
     "iopub.status.idle": "2023-10-07T01:25:42.367741Z",
     "shell.execute_reply": "2023-10-07T01:25:42.367101Z",
     "shell.execute_reply.started": "2023-10-07T01:25:42.365122Z"
    }
   },
   "outputs": [],
   "source": [
    "threshold = 1"
   ]
  },
  {
   "cell_type": "markdown",
   "id": "bd934475",
   "metadata": {},
   "source": [
    "## Understanding the netwrok projected"
   ]
  },
  {
   "cell_type": "markdown",
   "id": "0ef71b80",
   "metadata": {},
   "source": [
    "#### **Concept of Vertices**\n",
    "User.\n",
    "\n",
    "#### **Concept of Edges**\n",
    "An edge between i and j represents that i and j have similar usage behavior.\n",
    "\n",
    "**OR**\n",
    "\n",
    "An edge between i and j represents that both had the sum of weights of equivalent interactions greater than or equal to 3.\n",
    "\n",
    "#### **Operationalization of Vertices**\n",
    "Each vertex represents a user of OLX who had the sum of interaction weights with items greater than or equal to 3. Interaction can mean:\n",
    "\n",
    "- Visit the item's page (weight 1);\n",
    "- Add the item to favorites (weight 2);\n",
    "- Access the chat with the item's owner (weight 2);\n",
    "- Reveal the item's linked phone number (weight 2);\n",
    "- Click to access the external page of the item's owner (weight 2);\n",
    "- Click to make a call to the linked item's number (weight 3);\n",
    "- Click to send an SMS to the linked item's number (weight 3);\n",
    "- Send a message in the chat with the item's owner (weight 3).\n",
    "\n",
    "The criteria for assigning weights were:\n",
    "\n",
    "- Weight 3: Trying to contact the item's owner;\n",
    "- Weight 2: Interacting with the item's page;\n",
    "- Weight 1: Accessing the item's page.\n",
    "\n",
    "The threshold of 3 was set by analyzing weights distribution.\n",
    "\n",
    "#### **Operationalization of Edges**\n",
    "Each edge represents that both users had the sum of weights of equivalent interactions greater than or equal to 3. Interaction can mean:\n",
    "\n",
    "- Visit the item's page (weight 1);\n",
    "- Add the item to favorites (weight 2);\n",
    "- Access the chat with the item's owner (weight 2);\n",
    "- Reveal the item's linked phone number (weight 2);\n",
    "- Click to access the external page of the item's owner (weight 2);\n",
    "- Click to make a call to the linked item's number (weight 3);\n",
    "- Click to send an SMS to the linked item's number (weight 3);\n",
    "- Send a message in the chat with the item's owner (weight 3).\n",
    "\n",
    "The criteria for assigning weights were:\n",
    "\n",
    "- Weight 3: Trying to contact the item's owner;\n",
    "- Weight 2: Interacting with the item's page;\n",
    "- Weight 1: Accessing the item's page.\n",
    "\n",
    "For interactions to be considered equivalent, they must be:\n",
    "\n",
    "- With the same item;\n",
    "- Of the same type.\n",
    "\n",
    "The threshold of 3 was set by analyzing weights distribution."
   ]
  },
  {
   "cell_type": "markdown",
   "id": "952e8d46-02d4-4cce-92b7-9fcdca7381d6",
   "metadata": {},
   "source": [
    "## Creating functions to build the network"
   ]
  },
  {
   "cell_type": "code",
   "execution_count": 21,
   "id": "2b7c4621-fd32-40db-8972-6a65bbd64fe6",
   "metadata": {
    "execution": {
     "iopub.execute_input": "2023-10-07T01:25:42.368784Z",
     "iopub.status.busy": "2023-10-07T01:25:42.368534Z",
     "iopub.status.idle": "2023-10-07T01:25:42.380840Z",
     "shell.execute_reply": "2023-10-07T01:25:42.380155Z",
     "shell.execute_reply.started": "2023-10-07T01:25:42.368760Z"
    }
   },
   "outputs": [],
   "source": [
    "def get_or_add_edge(g, user_a, user_b, weight):\n",
    "    e = g.edge_by_ids(user_a, user_b)\n",
    "    if e is None:\n",
    "        e = g.add_edge_by_ids(user_a, user_b)\n",
    "        e['weight'] = weight\n",
    "    return e"
   ]
  },
  {
   "cell_type": "code",
   "execution_count": 22,
   "id": "e8548565-eb98-4d8e-b88c-5606b90d0a48",
   "metadata": {
    "execution": {
     "iopub.execute_input": "2023-10-07T01:25:42.381950Z",
     "iopub.status.busy": "2023-10-07T01:25:42.381719Z",
     "iopub.status.idle": "2023-10-07T01:25:42.394241Z",
     "shell.execute_reply": "2023-10-07T01:25:42.393250Z",
     "shell.execute_reply.started": "2023-10-07T01:25:42.381930Z"
    }
   },
   "outputs": [],
   "source": [
    "def get_or_add_vertex(g, id):\n",
    "    u = g.vertex_by_id(id)\n",
    "    if u is None:\n",
    "        u = g.add_vertex_by_id(id)\n",
    "    return u"
   ]
  },
  {
   "cell_type": "markdown",
   "id": "89c46a52-7637-4cc2-a328-4ea2419e46b8",
   "metadata": {},
   "source": [
    "## Reading the data and building the network"
   ]
  },
  {
   "cell_type": "code",
   "execution_count": 23,
   "id": "0f1dc392-21ed-4adb-8d27-49ab0526512a",
   "metadata": {
    "execution": {
     "iopub.execute_input": "2023-10-07T01:25:42.395383Z",
     "iopub.status.busy": "2023-10-07T01:25:42.395123Z",
     "iopub.status.idle": "2023-10-07T01:25:42.410895Z",
     "shell.execute_reply": "2023-10-07T01:25:42.410091Z",
     "shell.execute_reply.started": "2023-10-07T01:25:42.395359Z"
    }
   },
   "outputs": [],
   "source": [
    "g = gte.Graph(directed=False)"
   ]
  },
  {
   "cell_type": "code",
   "execution_count": 24,
   "id": "c1d3529d-9c9f-4742-b5e9-eaf4b4c855ce",
   "metadata": {
    "execution": {
     "iopub.execute_input": "2023-10-07T01:25:42.412085Z",
     "iopub.status.busy": "2023-10-07T01:25:42.411836Z",
     "iopub.status.idle": "2023-10-07T01:25:42.423995Z",
     "shell.execute_reply": "2023-10-07T01:25:42.423328Z",
     "shell.execute_reply.started": "2023-10-07T01:25:42.412063Z"
    }
   },
   "outputs": [],
   "source": [
    "g.add_ep('weight')"
   ]
  },
  {
   "cell_type": "code",
   "execution_count": 25,
   "id": "51386696-159a-4ca9-a8f1-faf5798c597d",
   "metadata": {
    "execution": {
     "iopub.execute_input": "2023-10-07T01:25:42.425383Z",
     "iopub.status.busy": "2023-10-07T01:25:42.424931Z",
     "iopub.status.idle": "2023-10-07T01:25:48.446100Z",
     "shell.execute_reply": "2023-10-07T01:25:48.445535Z",
     "shell.execute_reply.started": "2023-10-07T01:25:42.425359Z"
    }
   },
   "outputs": [],
   "source": [
    "for u1, neighbors in user_user_projection.items():\n",
    "    for u2, weight in neighbors.items():\n",
    "        if weight > threshold:\n",
    "            \n",
    "            vertex_u1 = get_or_add_vertex(g, u1)\n",
    "            vertex_u2 = get_or_add_vertex(g, u2)\n",
    "            edge = get_or_add_edge(g, u1, u2, weight)"
   ]
  },
  {
   "cell_type": "code",
   "execution_count": 26,
   "id": "017181be-68e4-4e02-9fbe-2e6f42335961",
   "metadata": {
    "execution": {
     "iopub.execute_input": "2023-10-07T01:25:48.447478Z",
     "iopub.status.busy": "2023-10-07T01:25:48.447343Z",
     "iopub.status.idle": "2023-10-07T01:25:48.785960Z",
     "shell.execute_reply": "2023-10-07T01:25:48.785392Z",
     "shell.execute_reply.started": "2023-10-07T01:25:48.447466Z"
    }
   },
   "outputs": [],
   "source": [
    "g = gte.clean(g)"
   ]
  },
  {
   "cell_type": "code",
   "execution_count": 27,
   "id": "c7ae98f2-bc19-46cd-8a24-9dd2e1b5a651",
   "metadata": {
    "execution": {
     "iopub.execute_input": "2023-10-07T01:25:48.786724Z",
     "iopub.status.busy": "2023-10-07T01:25:48.786578Z",
     "iopub.status.idle": "2023-10-07T01:25:48.790426Z",
     "shell.execute_reply": "2023-10-07T01:25:48.789271Z",
     "shell.execute_reply.started": "2023-10-07T01:25:48.786713Z"
    }
   },
   "outputs": [
    {
     "name": "stdout",
     "output_type": "stream",
     "text": [
      "Number of vertices: 77449\n",
      "Number of edges: 186852\n"
     ]
    }
   ],
   "source": [
    "print(\"Number of vertices:\", g.num_vertices())\n",
    "print(\"Number of edges:\", g.num_edges())"
   ]
  },
  {
   "cell_type": "code",
   "execution_count": 28,
   "id": "58f23076-b324-4a4d-a73f-c75d6370129f",
   "metadata": {
    "execution": {
     "iopub.execute_input": "2023-10-07T01:25:48.791863Z",
     "iopub.status.busy": "2023-10-07T01:25:48.791590Z",
     "iopub.status.idle": "2023-10-07T01:25:59.047287Z",
     "shell.execute_reply": "2023-10-07T01:25:59.046819Z",
     "shell.execute_reply.started": "2023-10-07T01:25:48.791843Z"
    }
   },
   "outputs": [],
   "source": [
    "gte.save(g, 'similar_olx_user.net.gz')"
   ]
  },
  {
   "cell_type": "markdown",
   "id": "2007fcb0-e3f6-4a21-89a9-9056b6f06135",
   "metadata": {},
   "source": [
    "## Configuring the layout and rendering the network"
   ]
  },
  {
   "cell_type": "code",
   "execution_count": 29,
   "id": "6e00504a-1776-4b37-9868-89ca4c5e214b",
   "metadata": {
    "execution": {
     "iopub.execute_input": "2023-10-07T01:25:59.047961Z",
     "iopub.status.busy": "2023-10-07T01:25:59.047814Z",
     "iopub.status.idle": "2023-10-07T01:25:59.806094Z",
     "shell.execute_reply": "2023-10-07T01:25:59.805670Z",
     "shell.execute_reply.started": "2023-10-07T01:25:59.047948Z"
    }
   },
   "outputs": [
    {
     "data": {
      "text/html": [
       "\n",
       "    <script src=\"/static/.hidden/netpixi.min.js\"></script>\n"
      ],
      "text/plain": [
       "<IPython.core.display.HTML object>"
      ]
     },
     "metadata": {},
     "output_type": "display_data"
    }
   ],
   "source": [
    "from graph_tool import draw\n",
    "import netpixi"
   ]
  },
  {
   "cell_type": "code",
   "execution_count": 30,
   "id": "6578e088-7675-4f8b-bc6f-b344775fa138",
   "metadata": {
    "execution": {
     "iopub.execute_input": "2023-10-07T01:25:59.807072Z",
     "iopub.status.busy": "2023-10-07T01:25:59.806731Z",
     "iopub.status.idle": "2023-10-07T01:32:00.656801Z",
     "shell.execute_reply": "2023-10-07T01:32:00.655986Z",
     "shell.execute_reply.started": "2023-10-07T01:25:59.807056Z"
    }
   },
   "outputs": [],
   "source": [
    "layout = draw.sfdp_layout(g)"
   ]
  },
  {
   "cell_type": "code",
   "execution_count": 31,
   "id": "6b9e2bf3-7bfd-40eb-8690-6880de42d0e2",
   "metadata": {
    "execution": {
     "iopub.execute_input": "2023-10-07T01:32:00.658186Z",
     "iopub.status.busy": "2023-10-07T01:32:00.657951Z",
     "iopub.status.idle": "2023-10-07T01:32:02.342826Z",
     "shell.execute_reply": "2023-10-07T01:32:02.342301Z",
     "shell.execute_reply.started": "2023-10-07T01:32:00.658168Z"
    }
   },
   "outputs": [],
   "source": [
    "gte.move(g, layout)"
   ]
  },
  {
   "cell_type": "code",
   "execution_count": 32,
   "id": "2a03fbf6-d32c-4db9-b6a3-038f06b39839",
   "metadata": {
    "execution": {
     "iopub.execute_input": "2023-10-07T01:32:02.343720Z",
     "iopub.status.busy": "2023-10-07T01:32:02.343557Z",
     "iopub.status.idle": "2023-10-07T01:32:14.198228Z",
     "shell.execute_reply": "2023-10-07T01:32:14.197738Z",
     "shell.execute_reply.started": "2023-10-07T01:32:02.343705Z"
    }
   },
   "outputs": [],
   "source": [
    "gte.save(g, 'similar_olx_user_layout.net.gz')"
   ]
  },
  {
   "cell_type": "code",
   "execution_count": 33,
   "id": "544a69dd-5a60-4c65-90e9-c06087ad0167",
   "metadata": {
    "execution": {
     "iopub.execute_input": "2023-10-07T01:32:14.198975Z",
     "iopub.status.busy": "2023-10-07T01:32:14.198805Z",
     "iopub.status.idle": "2023-10-07T01:32:14.203702Z",
     "shell.execute_reply": "2023-10-07T01:32:14.203055Z",
     "shell.execute_reply.started": "2023-10-07T01:32:14.198963Z"
    }
   },
   "outputs": [
    {
     "data": {
      "text/html": [
       "\n",
       "        <div id=\"e523CgcFhKeQALNquk8zQ9\"></div>\n",
       "        <script>netpixi.render('e523CgcFhKeQALNquk8zQ9', '/static/__shared__/redesoc-aps3/similar_olx_user_layout.net.gz', 1.7777777777777777, true, true, false, true);</script>\n",
       "    "
      ],
      "text/plain": [
       "<IPython.core.display.HTML object>"
      ]
     },
     "metadata": {},
     "output_type": "display_data"
    }
   ],
   "source": [
    "r = netpixi.render('similar_olx_user_layout.net.gz', infinite=True)"
   ]
  },
  {
   "cell_type": "markdown",
   "id": "3860136a-997e-402f-9917-12fdd7c59412",
   "metadata": {},
   "source": [
    "## Improving network vizualization"
   ]
  },
  {
   "cell_type": "code",
   "execution_count": null,
   "id": "586d6e2e-bac0-4f75-b810-ade3464cbd8b",
   "metadata": {},
   "outputs": [],
   "source": [
    "r.vertex_default(\n",
    "    size=2,\n",
    "    color=0xff7700,\n",
    "    bwidth=0.2,\n",
    "    bcolor=0x0000ff,\n",
    ")"
   ]
  },
  {
   "cell_type": "code",
   "execution_count": null,
   "id": "d26f15c6-d02e-4fa4-85a0-1a58033900b6",
   "metadata": {},
   "outputs": [],
   "source": [
    "r.edge_default(\n",
    "    width=0.2,\n",
    "    color=0xffffff,\n",
    "    curve1=0,\n",
    "    curve2=0,\n",
    ")"
   ]
  },
  {
   "cell_type": "markdown",
   "id": "4603ae38-dadb-4284-be5a-6edc72310fce",
   "metadata": {},
   "source": [
    "## Calculating Density and Transitivity"
   ]
  },
  {
   "cell_type": "code",
   "execution_count": null,
   "id": "f38bc0bc-c416-42b6-89f5-abed6d212aa3",
   "metadata": {},
   "outputs": [],
   "source": [
    "g.density()"
   ]
  },
  {
   "cell_type": "code",
   "execution_count": null,
   "id": "5b3690c0-5a81-480b-9efd-ddde9fd0541c",
   "metadata": {},
   "outputs": [],
   "source": [
    "g.transitivity()"
   ]
  },
  {
   "cell_type": "markdown",
   "id": "4246b1fd-9770-47bc-bb48-7d19288b63bc",
   "metadata": {},
   "source": [
    "## Analysing Degree Distribution"
   ]
  },
  {
   "cell_type": "code",
   "execution_count": null,
   "id": "e149e83b-e4b7-4d7d-ab71-cdc70481ee8a",
   "metadata": {},
   "outputs": [],
   "source": [
    "degrees = g.get_total_degrees()"
   ]
  },
  {
   "cell_type": "code",
   "execution_count": null,
   "id": "a5f5a5f3-6434-45f5-9134-f8fd4adc2a12",
   "metadata": {},
   "outputs": [],
   "source": [
    "degrees.describe()"
   ]
  },
  {
   "cell_type": "code",
   "execution_count": null,
   "id": "81e61dec-aa62-43d6-a0a6-3df310bf274b",
   "metadata": {},
   "outputs": [],
   "source": [
    "degrees.hist();"
   ]
  },
  {
   "cell_type": "code",
   "execution_count": null,
   "id": "e32f3cf5-d236-4bd1-b35d-33e28f3bc996",
   "metadata": {},
   "outputs": [],
   "source": [
    "dst.not_normal(degrees)"
   ]
  },
  {
   "cell_type": "code",
   "execution_count": null,
   "id": "f19202bc-8d05-4a23-93a4-45b0ef4a8e90",
   "metadata": {},
   "outputs": [],
   "source": [
    "dst.more_powerlaw_than_lognormal(degrees)"
   ]
  },
  {
   "cell_type": "code",
   "execution_count": null,
   "id": "f54b3482-8cc2-4512-8008-de9cd0918381",
   "metadata": {},
   "outputs": [],
   "source": [
    "dst.more_powerlaw_than_exponential(degrees)"
   ]
  },
  {
   "cell_type": "markdown",
   "id": "9ff77df4-0631-4bb1-a7d3-85f99bfafe49",
   "metadata": {},
   "source": [
    "## Analyzing Distance Distribution"
   ]
  },
  {
   "cell_type": "code",
   "execution_count": null,
   "id": "24c044b1-82b9-4f4e-9687-82cf2f53d87f",
   "metadata": {},
   "outputs": [],
   "source": [
    "g.describe_distances()"
   ]
  },
  {
   "cell_type": "code",
   "execution_count": null,
   "id": "e36ba957-0da9-4e68-ac87-1ed33c954a29",
   "metadata": {},
   "outputs": [],
   "source": [
    "g.hist_distances()"
   ]
  }
 ],
 "metadata": {
  "kernelspec": {
   "display_name": "Python 3 (ipykernel)",
   "language": "python",
   "name": "python3"
  },
  "language_info": {
   "codemirror_mode": {
    "name": "ipython",
    "version": 3
   },
   "file_extension": ".py",
   "mimetype": "text/x-python",
   "name": "python",
   "nbconvert_exporter": "python",
   "pygments_lexer": "ipython3",
   "version": "3.11.5"
  }
 },
 "nbformat": 4,
 "nbformat_minor": 5
}
